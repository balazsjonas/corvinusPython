{
 "cells": [
  {
   "cell_type": "markdown",
   "metadata": {},
   "source": [
    "<h1>2. alkalom </h1>"
   ]
  },
  {
   "cell_type": "markdown",
   "metadata": {},
   "source": [
    "<h4>2.1 Függvények, Modulok</h4>"
   ]
  },
  {
   "cell_type": "code",
   "execution_count": 4,
   "metadata": {
    "collapsed": true
   },
   "outputs": [],
   "source": [
    "def root(x, n=2):\n",
    "    \"\"\"Take the n-th root of x. \"\"\"\n",
    "    return x**(1.0 / n)"
   ]
  },
  {
   "cell_type": "markdown",
   "metadata": {},
   "source": [
    "A függvény hívása:"
   ]
  },
  {
   "cell_type": "code",
   "execution_count": 3,
   "metadata": {
    "collapsed": true
   },
   "outputs": [],
   "source": [
    "root(16)"
   ]
  },
  {
   "cell_type": "code",
   "execution_count": 2,
   "metadata": {
    "collapsed": true
   },
   "outputs": [],
   "source": [
    "root(16, 4)"
   ]
  },
  {
   "cell_type": "markdown",
   "metadata": {},
   "source": [
    "Függvények egymásba ágyazása"
   ]
  },
  {
   "cell_type": "code",
   "execution_count": 9,
   "metadata": {
    "collapsed": true
   },
   "outputs": [],
   "source": [
    "def fibonacci(n, F1=1, F2=1):\n",
    "    \"\"\"Fibonacci sorozat\"\"\"\n",
    "    def g(n):\n",
    "        if n == 1: return F1\n",
    "        elif n == 2: return F2\n",
    "        else: return g(n - 1) + g(n - 2)\n",
    "    return g(n)"
   ]
  },
  {
   "cell_type": "code",
   "execution_count": 1,
   "metadata": {
    "collapsed": true
   },
   "outputs": [],
   "source": [
    "fibonacci(10)"
   ]
  },
  {
   "cell_type": "markdown",
   "metadata": {},
   "source": [
    "<b>Feladat-1</b>:Írjunk függvényt, ami n-ig kiírja a Fibonacci számokat!"
   ]
  },
  {
   "cell_type": "code",
   "execution_count": 16,
   "metadata": {},
   "outputs": [],
   "source": [
    "def fibo(n):\n"
   ]
  },
  {
   "cell_type": "markdown",
   "metadata": {},
   "source": [
    "<b>Feladat-2</b>: Készítsünk egy konvertáló modult, amely a)Farenheitről Celsiusra b)Celsiusról Farenheitre c)méterről mérföldre és d)mérföldről méterre konvertál."
   ]
  },
  {
   "cell_type": "code",
   "execution_count": null,
   "metadata": {
    "collapsed": true
   },
   "outputs": [],
   "source": [
    "#konvertáló modul\n",
    "def f2c(fok):\n",
    "    \n",
    "    \n",
    "def c2f(fok):\n",
    "    \n",
    "    \n",
    "def me2mi(hossz):\n",
    "    \n",
    "\n",
    "def mi2me(hossz):\n",
    "    \n",
    "    "
   ]
  },
  {
   "cell_type": "markdown",
   "metadata": {},
   "source": [
    "<h4>2.2 Numpy</h4>"
   ]
  },
  {
   "cell_type": "code",
   "execution_count": 1,
   "metadata": {},
   "outputs": [
    {
     "data": {
      "text/plain": [
       "array([ 0.,  0.,  0.,  0.])"
      ]
     },
     "execution_count": 1,
     "metadata": {},
     "output_type": "execute_result"
    }
   ],
   "source": [
    "import numpy as np\n",
    "np.zeros(4)"
   ]
  },
  {
   "cell_type": "markdown",
   "metadata": {},
   "source": [
    "<b>Elemek és résztömbök</b>"
   ]
  },
  {
   "cell_type": "code",
   "execution_count": 4,
   "metadata": {},
   "outputs": [
    {
     "data": {
      "text/plain": [
       "array([[1, 2, 3],\n",
       "       [4, 5, 6]])"
      ]
     },
     "execution_count": 4,
     "metadata": {},
     "output_type": "execute_result"
    }
   ],
   "source": [
    "import numpy as np\n",
    "A = np.array([[1, 2, 3], [4, 5, 6]])\n",
    "\n",
    "A\n",
    "#Próbáljuk ki, hogy mi az eredmény\n",
    "#A[0, 0] # => 1\n",
    "#A[0, :] # => np.array([1, 2, 3])\n",
    "#A[:, 1] # => np.array([2, 5])\n",
    "#A[:, :-1] # => np.array([[1, 2], [4, 5]])\n",
    "\n",
    "#A[:, [0, 2]] "
   ]
  },
  {
   "cell_type": "markdown",
   "metadata": {},
   "source": [
    "<b>Tömb műveletek</b>"
   ]
  },
  {
   "cell_type": "code",
   "execution_count": null,
   "metadata": {
    "collapsed": true
   },
   "outputs": [],
   "source": [
    "np.array([1, 2, 3]) * 2 "
   ]
  },
  {
   "cell_type": "code",
   "execution_count": null,
   "metadata": {
    "collapsed": true
   },
   "outputs": [],
   "source": [
    "A = np.array([[1, 2], [4, 5], [5, 6]])\n",
    "b = np.array([1, -1])\n",
    "A * b "
   ]
  },
  {
   "cell_type": "markdown",
   "metadata": {},
   "source": [
    "<b>Feladat-3 (numpy)</b>: Készítsünk Python nyelvű függvényt két vektor skaláris szorzatának kiszámítására!<br/>\n",
    "Hasonlítsuk össze a függvényünket futási idő szempontjából a numpy beépített dot függvényével!<br/>\n",
    "numpy: np.dot(x,y) megadja az x és y vektorok skaláris szorzatát\n",
    "\n",
    "<hr/>"
   ]
  },
  {
   "cell_type": "code",
   "execution_count": 5,
   "metadata": {
    "collapsed": true
   },
   "outputs": [],
   "source": [
    "#zip beépített eljárás működése\n",
    "list1 = [10, 20, 30, 40]\n",
    "list2 = [11, 21, 31]\n",
    "result = zip(list1, list2)\n",
    "#result\n",
    "\n",
    "for element1, element2 in result:\n",
    "    print(element1, element2)"
   ]
  },
  {
   "cell_type": "code",
   "execution_count": null,
   "metadata": {
    "collapsed": true
   },
   "outputs": [],
   "source": [
    "def mydot(x, y):\n",
    "    return sum([xi * yi for xi, yi in zip(x, y)])"
   ]
  },
  {
   "cell_type": "markdown",
   "metadata": {},
   "source": [
    "Véletlenszámokkal feltöltünk<br> <ul><li>két listát: <i>x1, y1</i></li> <li>két numpy tömböt: <i>x2, y2</i></li></ul>"
   ]
  },
  {
   "cell_type": "code",
   "execution_count": null,
   "metadata": {
    "collapsed": true
   },
   "outputs": [],
   "source": [
    "import random\n",
    "import time\n",
    "import numpy as np\n",
    "\n",
    "# tesztvektorok Python listaként tárolva\n",
    "x1 = [random.random() for i in range(100000)]\n",
    "y1 = [random.random() for i in range(100000)]\n",
    "\n",
    "# a tesztvektorok numpy tömbbé alakított változata\n",
    "x2 = np.array(x1)\n",
    "y2 = np.array(y1)"
   ]
  },
  {
   "cell_type": "code",
   "execution_count": null,
   "metadata": {
    "collapsed": true
   },
   "outputs": [],
   "source": [
    "# futási idő lemérése\n",
    "print(\"mydot, listákon:\")\n",
    "#lekérdezzük az órát\n",
    "t0 = time.time()\n",
    "#meghívjuk a saját skalár szozót\n",
    "mydot(x1, y1)\n",
    "t1 = time.time()\n",
    "print(t1 - t0)"
   ]
  },
  {
   "cell_type": "code",
   "execution_count": null,
   "metadata": {
    "collapsed": true
   },
   "outputs": [],
   "source": [
    "# futási idő mérése beépített numpy vektorral és művelettel\n",
    "\n"
   ]
  },
  {
   "cell_type": "markdown",
   "metadata": {},
   "source": [
    "<b>Feladat-4 (numpy)</b>: Mérjük le és ábrázoljuk a lineáris egyenletrendszer megoldás \n",
    "    időigényét az ismeretlenek számának függvényében! <br>\n",
    "    numpy: linalg.solve(A, b) megoldja az Ax=b lineáris egyenletrendszert.\n",
    "<hr/>"
   ]
  },
  {
   "cell_type": "code",
   "execution_count": 6,
   "metadata": {},
   "outputs": [
    {
     "name": "stdout",
     "output_type": "stream",
     "text": [
      "100 200 300 400 500 600 700 800 900 1000 1100 1200 1300 1400 1500 1600 1700 1800 1900 "
     ]
    }
   ],
   "source": [
    "import time\n",
    "import numpy as np\n",
    "import matplotlib.pyplot as plt\n",
    "\n",
    "ns = range(100, 2000, 100) #változók számának listája\n",
    "ts = []                    # futási idők listája\n",
    "\n",
    "for n in ns:\n",
    "    print(n, end=\" \")\n",
    "    A = np.random.random((n, n))\n",
    "    b = np.random.random(n)     \n",
    "    t0 = time.time()\n",
    "    x = np.linalg.solve(A, b)\n",
    "    t1=time.time()\n",
    "    ts.append(t1 - t0)"
   ]
  },
  {
   "cell_type": "code",
   "execution_count": 7,
   "metadata": {},
   "outputs": [
    {
     "data": {
      "image/png": "[encoded data removed]",
      "text/plain": [
       "<matplotlib.figure.Figure at 0x8492a58>"
      ]
     },
     "metadata": {},
     "output_type": "display_data"
    }
   ],
   "source": [
    "#kirajzolás, később vesszük\n",
    "plt.plot(ns, ts)\n",
    "plt.xlabel(\"ismeretlenek száma\")\n",
    "plt.ylabel(\"futási idö\")\n",
    "plt.grid(True)\n",
    "plt.show()"
   ]
  },
  {
   "cell_type": "markdown",
   "metadata": {},
   "source": [
    "<b>Feladat-5 (numpy)</b>: Borászat\n",
    "<ul>\n",
    "<li>A <a href=\"http://web.uni-corvinus.hu/~fszabina/data/wine.data\">wine.data</a> fájl három borászat borairól tartalmaz kémiai jellemzőket. </li>\n",
    "<li>Az egyes adatoszlopok jelentéséről a <a href=\"http://web.uni-corvinus.hu/~fszabina/data/wine.names\">wine.names</a> fájlban találhatunk további információt. </li>\n",
    "<li>A <a href=\"http://web.uni-corvinus.hu/~fszabina/data/wine.unknown\">wine.unknown</a> fájl egy ismeretlen eredetű kémiai elemzésének az eredményét tartalmazza. </li>\n",
    "</ul>\n",
    "Állapítsuk meg, hogy melyik borászatból származhat az ismeretlen bor a legnagyobb eséllyel!\n",
    "\n",
    "<hr/>"
   ]
  },
  {
   "cell_type": "code",
   "execution_count": 1,
   "metadata": {
    "collapsed": true
   },
   "outputs": [],
   "source": [
    "import numpy as np\n",
    "import urllib.request as ur\n",
    "\n",
    "# Közvetlenül az internetről is letölthetjük az adatokat, az alábbi módon:\n",
    "url1= ur.urlopen(\"http://web.uni-corvinus.hu/~fszabina/data/wine.data\") \n",
    "data1 = np.loadtxt(url1, delimiter=\",\")\n",
    "#data1\n"
   ]
  },
  {
   "cell_type": "code",
   "execution_count": 2,
   "metadata": {
    "collapsed": true
   },
   "outputs": [],
   "source": [
    "#wine.name állomány alapján az oszlopok jelentése\n",
    "columns = [\n",
    "    \"Alcohol\", \"Malic acid\", \"Ash\", \"Alcalinity of ash\", \"Magnesium\",\n",
    "    \"Total phenols\", \"Flavanoids\", \"Nonflavanoid phenols\", \"Proanthocyanins\", \"Color intensity\",\n",
    "    \"Hue\", \"OD280/OD315 of diluted wines\", \"Proline\",\n",
    "]\n",
    "\n",
    "#data1 mátrix sorainak első eleme a borászat azonosítója\n",
    "azonosito=data1[:, 0]\n",
    "\n",
    "#a sor további jellemzői az adott bor jellemzői\n",
    "borok=data1[:, 1:]"
   ]
  },
  {
   "cell_type": "code",
   "execution_count": 3,
   "metadata": {},
   "outputs": [
    {
     "name": "stdout",
     "output_type": "stream",
     "text": [
      "0 Alcohol 11.03 14.83 13.0006179775 0.809542914529\n",
      "1 Malic acid 0.74 5.8 2.33634831461 1.11400362698\n",
      "2 Ash 1.36 3.23 2.36651685393 0.273572294426\n",
      "3 Alcalinity of ash 10.6 30.0 19.4949438202 3.33016975766\n",
      "4 Magnesium 70.0 162.0 99.7415730337 14.2423076734\n",
      "5 Total phenols 0.98 3.88 2.29511235955 0.624090564197\n",
      "6 Flavanoids 0.34 5.08 2.02926966292 0.996048950379\n",
      "7 Nonflavanoid phenols 0.13 0.66 0.361853932584 0.124103259884\n",
      "8 Proanthocyanins 0.41 3.58 1.5908988764 0.57074884862\n",
      "9 Color intensity 1.28 13.0 5.05808988202 2.31176466095\n",
      "10 Hue 0.48 1.71 0.957449438202 0.227928606565\n",
      "11 OD280/OD315 of diluted wines 1.27 4.0 2.61168539326 0.707993264672\n",
      "12 Proline 278.0 1680.0 746.893258427 314.021656842\n"
     ]
    }
   ],
   "source": [
    "#Nézzük meg a borok alapvető statisztikai jellemzőit, azaz min, max, mean, szórás\n",
    "\n",
    "#lekérdezzük a méretet (azaz hány bor adatunk van és hány különböző jellemzőn)\n",
    "borok.shape\n",
    "\n",
    "#borok tömbön a különböző jellemzők esetén kiszámoljuk statisztikai jellemzőket\n",
    "for j in range(borok.shape[1]):\n",
    "    Xj = borok[:, j]\n",
    "    print(j, columns[j], Xj.min(), Xj.max(), Xj.mean(), Xj.std())"
   ]
  },
  {
   "cell_type": "code",
   "execution_count": 4,
   "metadata": {
    "collapsed": true
   },
   "outputs": [],
   "source": [
    "#töltsük be az ismeretlen bor jellemzői\n",
    "url2= ur.urlopen(\"http://web.uni-corvinus.hu/~fszabina/data/wine.unknown\") \n",
    "data2 = str(url2.read())\n",
    "\n",
    "# np.loadtxt(url2, delimiter=\": \") nem működik, mert a fájl szöveges adatokat is tartalmaz\n",
    "t=data2.split(\",\")\n",
    "ismeretlenbor=[]\n",
    "for e in t:\n",
    "    b=e.split(\": \")\n",
    "    ismeretlenbor.append(float(b[1].replace(\"'\", \"\")))\n",
    "\n",
    "ibor=np.array(ismeretlenbor)"
   ]
  },
  {
   "cell_type": "code",
   "execution_count": 31,
   "metadata": {},
   "outputs": [
    {
     "data": {
      "image/png": "[encoded data removed]",
      "text/plain": [
       "<matplotlib.figure.Figure at 0x7d2e208>"
      ]
     },
     "metadata": {},
     "output_type": "display_data"
    }
   ],
   "source": [
    "#Ábrázoljuk a borokat - később vesszük a matplotlib modult.\n",
    "import matplotlib.pyplot as plt\n",
    "\n",
    "c1, c2 = 6, 11\n",
    "plt.scatter(borok[azonosito == 1, c1], borok[azonosito == 1, c2], c=\"red\")\n",
    "plt.scatter(borok[azonosito == 2, c1], borok[azonosito == 2, c2], c=\"green\")\n",
    "plt.scatter(borok[azonosito == 3, c1], borok[azonosito == 3, c2], c=\"blue\")\n",
    "plt.scatter(ibor[c1], ibor[c2], s=100, c=\"yellow\")\n",
    "plt.xlabel(columns[c1])\n",
    "plt.ylabel(columns[c2])\n",
    "plt.grid(True)\n"
   ]
  },
  {
   "cell_type": "markdown",
   "metadata": {},
   "source": [
    "Melyik borhoz hasonlít a legjobban az ismeretlen bor? <br/>\n",
    "→ Legkisebb az euklideszi távolság <i>(azaz jellemzők eltérés négyzetéből vont gyök)</i> az egyes jellemzőktől\n",
    "\n"
   ]
  },
  {
   "cell_type": "code",
   "execution_count": 8,
   "metadata": {},
   "outputs": [
    {
     "name": "stdout",
     "output_type": "stream",
     "text": [
      "Az ismeretlen bor legjobban 62 . borhoz hasonlít\n",
      "#2: Az ismeretlen bor legjobban 62 . borhoz hasonlít\n"
     ]
    }
   ],
   "source": [
    "\n",
    "\n",
    "#print(\"Az np.inf a lehető legnagyobb érték\")\n",
    "tavolsagmin = np.inf\n",
    "\n",
    "#melyik borhoz van a legközelebb\n",
    "melyikbor =0\n",
    "\n",
    "#ciklusban végig megyünk az összes boron\n",
    "for j in range(borok.shape[0]):\n",
    "    Xj=borok[j, :]\n",
    "    tavolsag=0\n",
    "    for i in range(ibor.shape[0]):\n",
    "        tavolsag=tavolsag+(Xj[i]-ibor[i])**2\n",
    "    tavolsag=tavolsag**(1/2)\n",
    "    if tavolsag<tavolsagmin:\n",
    "        tavolsagmin=tavolsag\n",
    "        melyikbor=j\n",
    "\n",
    "print(\"Az ismeretlen bor legjobban\", melyikbor,\". borhoz hasonlít\") \n",
    "\n",
    "\n",
    "#egyszerűsítések az np könyvtár miatt\n",
    "tavolsagmin = np.inf\n",
    "melyikbor = 0\n",
    "\n",
    "for j in range(borok.shape[0]):\n",
    "    Xj=borok[j, :]\n",
    "    d = ((Xj - ibor)**2).sum()**0.5\n",
    "    if d<tavolsagmin:\n",
    "        tavolsagmin=d\n",
    "        melyikbor=j\n",
    "        \n",
    "print(\"#2: Az ismeretlen bor legjobban\", melyikbor,\". borhoz hasonlít\") "
   ]
  },
  {
   "cell_type": "markdown",
   "metadata": {},
   "source": [
    "<b>Feladat-6 (numpy)</b>: Borászat <br/>\n",
    "Az utolsó (Proline) jellemző szórása nagyon nagy, így a távolságot ez az érték nagyban befolyásolja. Pontosabb eredményt kapnánk, ha az értékeket normálizálnánk. Házi feladat az oszlopokat leosztani a szórásukkal."
   ]
  },
  {
   "cell_type": "code",
   "execution_count": 8,
   "metadata": {},
   "outputs": [],
   "source": [
    "#borok tömbön a különböző jellemzők esetén kiszámoljuk statisztikai jellemzőket\n"
   ]
  }
 ],
 "metadata": {
  "celltoolbar": "Raw Cell Format",
  "kernelspec": {
   "name": "pycharm-9e8f26d8",
   "language": "python",
   "display_name": "PyCharm (corvinusPython)"
  },
  "language_info": {
   "codemirror_mode": {
    "name": "ipython",
    "version": 3
   },
   "file_extension": ".py",
   "mimetype": "text/x-python",
   "name": "python",
   "nbconvert_exporter": "python",
   "pygments_lexer": "ipython3",
   "version": "3.5.2"
  }
 },
 "nbformat": 4,
 "nbformat_minor": 2
}