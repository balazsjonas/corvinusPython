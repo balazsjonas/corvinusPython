{
  "nbformat": 4,
  "nbformat_minor": 0,
  "metadata": {
    "colab": {
      "name": "Untitled1.ipynb",
      "provenance": [],
      "history_visible": true,
      "authorship_tag": "ABX9TyPfQ74ggGKmu5HXgewwJmBe",
      "include_colab_link": true
    },
    "kernelspec": {
      "name": "python3",
      "display_name": "Python 3"
    },
    "language_info": {
      "name": "python"
    }
  },
  "cells": [
    {
      "cell_type": "markdown",
      "metadata": {
        "id": "view-in-github",
        "colab_type": "text"
      },
      "source": [
        "<a href=\"https://colab.research.google.com/github/balazsjonas/corvinusPython/blob/main/beadando1b.ipynb\" target=\"_parent\"><img src=\"https://colab.research.google.com/assets/colab-badge.svg\" alt=\"Open In Colab\"/></a>"
      ]
    },
    {
      "cell_type": "code",
      "execution_count": 10,
      "metadata": {
        "id": "hJ0l-BqpWF91"
      },
      "outputs": [],
      "source": [
        "import requests\n",
        "url = 'https://raw.githubusercontent.com/balazsjonas/corvinusPython/main/ip.txt'\n",
        "with requests.get(url) as f:\n",
        "  content = f.text"
      ]
    },
    {
      "cell_type": "code",
      "source": [
        "ip_types = {'2001:0db8': 'dok',\n",
        "            '2001:0e': 'global',\n",
        "            'fc': 'local',\n",
        "            'fd': 'local'}\n",
        "def ip_to_type(address: str) -> str:\n",
        "  for k, v in ip_types.items():\n",
        "    if address.startswith(k):\n",
        "      return v\n",
        "  raise ValueError(\"Unknown type\")\n",
        "\n",
        "counters = {v: 0 for k,v in ip_types.items()}\n",
        "\n",
        "ip_addresses = content.splitlines()\n",
        "\n",
        "print(\"ip címek száma: \"+ str(len(ip_addresses)))\n",
        "\n",
        "list(map(ip_to_type, ip_addresses))\n",
        "\n",
        "for ip in map(ip_to_type, ip_addresses):\n",
        "  counters[ip] += 1\n",
        "print(counters)\n"
      ],
      "metadata": {
        "colab": {
          "base_uri": "https://localhost:8080/"
        },
        "id": "xebL1hZuXU7O",
        "outputId": "ba8f3390-15e2-4e2e-a711-efe222f4f86a"
      },
      "execution_count": 29,
      "outputs": [
        {
          "output_type": "stream",
          "name": "stdout",
          "text": [
            "ip címek száma: 375\n",
            "{'dok': 106, 'global': 120, 'local': 149}\n"
          ]
        }
      ]
    }
  ]
}