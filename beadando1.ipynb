{
  "nbformat": 4,
  "nbformat_minor": 0,
  "metadata": {
    "colab": {
      "name": "Untitled0.ipynb másolata",
      "provenance": [],
      "collapsed_sections": [],
      "authorship_tag": "ABX9TyPXtXU2aObr8brm7M5mReTA",
      "include_colab_link": true
    },
    "kernelspec": {
      "name": "python3",
      "display_name": "Python 3"
    },
    "language_info": {
      "name": "python"
    }
  },
  "cells": [
    {
      "cell_type": "markdown",
      "metadata": {
        "id": "view-in-github",
        "colab_type": "text"
      },
      "source": [
        "<a href=\"https://colab.research.google.com/github/balazsjonas/corvinusPython/blob/main/beadando1.ipynb\" target=\"_parent\"><img src=\"https://colab.research.google.com/assets/colab-badge.svg\" alt=\"Open In Colab\"/></a>"
      ]
    },
    {
      "cell_type": "code",
      "execution_count": 18,
      "metadata": {
        "id": "1Kid6WH-LScf"
      },
      "outputs": [],
      "source": [
        "def farenheit_to_celsius(farenheight: int):\n",
        "  return 5 / 9 * (float(farenheight) - 32)\n",
        "\n",
        "def celsius_to_farenheit(celsius: int):\n",
        "  return 32 + 9 / 5 * float(celsius)\n",
        "\n",
        "methods = {'F': celsius_to_farenheit, 'C': farenheit_to_celsius}\n",
        "input_units = {'F': '°C', 'T':  '°F'}\n",
        "output_units = {'F': '°F', 'T':  '°C'}"
      ]
    },
    {
      "cell_type": "code",
      "source": [
        "print(farenheit_to_celsius(32)) # should be 0\n",
        "print(farenheit_to_celsius(0)) # should be -17.77\n",
        "print(celsius_to_farenheit(0)) # should be 32\n",
        "print(celsius_to_farenheit(32)) # should be 89.6"
      ],
      "metadata": {
        "colab": {
          "base_uri": "https://localhost:8080/"
        },
        "id": "Xa128kDkUQ7c",
        "outputId": "c34d06a3-a14f-4ed0-e488-97f9fd488683"
      },
      "execution_count": 28,
      "outputs": [
        {
          "output_type": "stream",
          "name": "stdout",
          "text": [
            "0.0\n",
            "-17.77777777777778\n",
            "32.0\n",
            "89.6\n"
          ]
        }
      ]
    },
    {
      "cell_type": "code",
      "source": [
        "method = None\n",
        "while method is None:\n",
        "  choice = input(\"Válaszd ki a függvényt:\")\n",
        "  method = methods.get(choice)\n",
        "\n",
        "\n",
        "degree = input(\"Add meg a hőmérsékletet \"+ input_units[choice] + \"-ben:\")\n",
        "print(\"A hőmréséklet: \"+ str(method(degree)) + ' '+ output_units[choice])\n"
      ],
      "metadata": {
        "id": "b1ZqwVJyN36d",
        "outputId": "06170447-5569-4bd8-baa6-1433fc9af3a0",
        "colab": {
          "base_uri": "https://localhost:8080/"
        }
      },
      "execution_count": 22,
      "outputs": [
        {
          "output_type": "execute_result",
          "data": {
            "text/plain": [
              "0.0"
            ]
          },
          "metadata": {},
          "execution_count": 22
        }
      ]
    }
  ]
}